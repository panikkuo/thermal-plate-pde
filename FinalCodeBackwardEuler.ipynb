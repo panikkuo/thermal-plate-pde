{
 "cells": [
  {
   "cell_type": "code",
   "execution_count": 1,
   "id": "fe47fc28",
   "metadata": {},
   "outputs": [],
   "source": [
    "import numpy as np\n",
    "import matplotlib.pyplot as plt\n",
    "from matplotlib.animation import FuncAnimation, PillowWriter\n",
    "from scipy.sparse.linalg import spsolve\n",
    "from scipy.sparse import csr_matrix\n",
    "import time\n",
    "from matplotlib.animation import FuncAnimation"
   ]
  },
  {
   "cell_type": "code",
   "execution_count": 2,
   "id": "c04e6371",
   "metadata": {},
   "outputs": [],
   "source": [
    "try_number = 0\n",
    "path = 'Backward/'"
   ]
  },
  {
   "cell_type": "code",
   "execution_count": 3,
   "id": "b3d12801",
   "metadata": {},
   "outputs": [],
   "source": [
    "T = 0.1\n",
    "field_size = 200\n",
    "time_duration = 100\n",
    "\n",
    "t = T / time_duration\n",
    "h = 1 / (field_size - 1)\n",
    "u = np.zeros((field_size, field_size, time_duration))"
   ]
  },
  {
   "cell_type": "code",
   "execution_count": 4,
   "id": "545ca796-9ee9-4103-956b-f0a27d5f412c",
   "metadata": {},
   "outputs": [],
   "source": [
    "def phi(x, y):\n",
    "    return np.sin(np.pi * x) * np.sin(np.pi * y)\n",
    "\n",
    "\n",
    "def g(x, y, t):\n",
    "    return 0"
   ]
  },
  {
   "cell_type": "code",
   "execution_count": 5,
   "id": "53bb063a",
   "metadata": {},
   "outputs": [],
   "source": [
    "def generate_A(n, h, t):\n",
    "    A = np.eye((n * n), dtype='float')\n",
    "    for i in range(1, n - 1):\n",
    "        for j in range(1, n - 1):\n",
    "            row = n * j + i\n",
    "            A[row][n * j + i] = h ** 2 + 4 * t\n",
    "            A[row][n * j + (i - 1)] = -t\n",
    "            A[row][n * j + (i + 1)] = -t\n",
    "            A[row][n * (j - 1) + i] = -t\n",
    "            A[row][n * (j + 1) + i] = -t\n",
    "    return A\n",
    "            \n",
    "\n",
    "def generate_b(u, n, h, t, k):\n",
    "    b = np.zeros((n, n))\n",
    "    \n",
    "    boundary_mask = np.zeros((n, n), dtype=bool)\n",
    "    boundary_mask[0, :] = boundary_mask[-1, :] = True\n",
    "    boundary_mask[:, 0] = boundary_mask[:, -1] = True\n",
    "    \n",
    "    inner_mask = ~boundary_mask\n",
    "    i, j = np.where(boundary_mask)\n",
    "    b[boundary_mask] = g(i * h, j * h, k * t)\n",
    "    \n",
    "    b[inner_mask] = h ** 2 * u[inner_mask][:, k]\n",
    "    b = b.ravel()\n",
    "    \n",
    "    return b"
   ]
  },
  {
   "cell_type": "code",
   "execution_count": 6,
   "id": "1be2e4e3-fe6c-475e-b5dd-8c74b259b6ac",
   "metadata": {},
   "outputs": [],
   "source": [
    "A = csr_matrix(generate_A(field_size, h, t))"
   ]
  },
  {
   "cell_type": "code",
   "execution_count": 7,
   "id": "759d2e54",
   "metadata": {},
   "outputs": [],
   "source": [
    "def Solution():\n",
    "    for i in range(field_size):\n",
    "        for j in range(field_size):\n",
    "            if i == 0 or j == 0 or i == field_size - 1 or j == field_size - 1:\n",
    "                u[i][j][0] = g(i * h, j * h, 0)\n",
    "            else:\n",
    "                u[i][j][0] = phi(i * h, j * h)\n",
    "    \n",
    "    A = csr_matrix(generate_A(field_size, h, t))\n",
    "    for k in range(1, time_duration):\n",
    "        b = generate_b(u, field_size, h, t, k - 1)\n",
    "        y = spsolve(A, b)\n",
    "        u[:, :, k] = y.reshape(field_size, field_size)"
   ]
  },
  {
   "cell_type": "code",
   "execution_count": 8,
   "id": "703ff041",
   "metadata": {},
   "outputs": [],
   "source": [
    "Solution()"
   ]
  },
  {
   "cell_type": "code",
   "execution_count": 9,
   "id": "2a3895b3",
   "metadata": {},
   "outputs": [
    {
     "data": {
      "image/png": "[encoded data removed]",
      "text/plain": [
       "<Figure size 640x480 with 2 Axes>"
      ]
     },
     "metadata": {},
     "output_type": "display_data"
    }
   ],
   "source": [
    "fig, ax = plt.subplots()\n",
    "frames = time_duration - 3\n",
    "interval = 100\n",
    "heatmap = ax.imshow(u[:, :, 0], cmap='plasma', interpolation='nearest', vmin = -1, vmax = 1)\n",
    "\n",
    "def update(frame):\n",
    "    heatmap.set_array(u[:, :, frame - 1])\n",
    "    return [heatmap]\n",
    "\n",
    "plt.colorbar(heatmap)\n",
    "plt.axis('off')\n",
    "ani = FuncAnimation(fig, update, frames=frames, interval=interval, blit=True)\n",
    "ani.save(path + f'Method animation{try_number}.gif', writer=PillowWriter(fps=10))"
   ]
  },
  {
   "cell_type": "code",
   "execution_count": 10,
   "id": "42125515",
   "metadata": {},
   "outputs": [],
   "source": [
    "u_solve = np.zeros_like(u)\n",
    "R = np.zeros_like(u)\n",
    "\n",
    "def solve(x, y, t):\n",
    "    return np.exp(-2 * np.pi ** 2 * t) * np.sin(np.pi * x) * np.sin(np.pi * y)"
   ]
  },
  {
   "cell_type": "code",
   "execution_count": 11,
   "id": "fe564d97-703a-46e5-ad8a-9fc7c685c228",
   "metadata": {},
   "outputs": [],
   "source": [
    "def create_u_solve_and_R():\n",
    "    global max_R\n",
    "    global time_R\n",
    "    for k in range(time_duration):\n",
    "        for i in range(field_size):\n",
    "            for j in range(field_size):\n",
    "                u_solve[i, j, k] = solve(i * h, j * h, k * t)\n",
    "                R[i, j, k] = abs(u_solve[i, j, k] - u[i, j, k])\n",
    "                if R[i, j, k] > max_R:\n",
    "                    max_R = R[i, j, k]\n",
    "                    time_R = k\n",
    "                    "
   ]
  },
  {
   "cell_type": "code",
   "execution_count": null,
   "id": "d8e6552c-357f-4eec-a7a4-76f29204b9a7",
   "metadata": {},
   "outputs": [],
   "source": [
    "max_R = 0.0\n",
    "time_R = 0.0\n",
    "create_u_solve_and_R()"
   ]
  },
  {
   "cell_type": "code",
   "execution_count": null,
   "id": "d292035a-9167-48b5-8868-9180c2591c58",
   "metadata": {},
   "outputs": [],
   "source": [
    "fig, ax = plt.subplots()\n",
    "frames = time_duration - 3\n",
    "interval = 100\n",
    "heatmap = ax.imshow(u[:, :, 0], cmap='plasma', interpolation='nearest', vmin = -1, vmax = 1)\n",
    "\n",
    "def update(frame):\n",
    "    heatmap.set_array(u_solve[:, :, frame - 1])\n",
    "    return [heatmap]\n",
    "\n",
    "plt.colorbar(heatmap)\n",
    "plt.axis('off')\n",
    "ani = FuncAnimation(fig, update, frames=frames, interval=interval, blit=True)\n",
    "ani.save(path + f'solve animation{try_number}.gif', writer=PillowWriter(fps=10))"
   ]
  },
  {
   "cell_type": "code",
   "execution_count": null,
   "id": "667d13e7-173d-4e26-88bd-3e9b2ea3176c",
   "metadata": {},
   "outputs": [],
   "source": [
    "print(f'Максимальная погрешность равна {max_R} на итерации {time_R}')"
   ]
  },
  {
   "cell_type": "code",
   "execution_count": null,
   "id": "9303cb08-f646-46d7-96ff-0db1a69de347",
   "metadata": {},
   "outputs": [],
   "source": [
    "x = np.arange(field_size)\n",
    "y = np.arange(field_size)\n",
    "x, y = np.meshgrid(x, y)\n",
    "\n",
    "fig = plt.figure()\n",
    "ax = fig.add_subplot(111, projection='3d')\n",
    "ax.set_zlim(0, 5)\n",
    "\n",
    "# Начальное значение поверхности\n",
    "z = R[:, :, 0]\n",
    "surf = ax.plot_surface(x, y, z, cmap='viridis')\n",
    "\n",
    "def update(frame):\n",
    "    ax.clear()\n",
    "    ax.set_zlim(0, 0.01)\n",
    "    z = R[:, :, frame]\n",
    "    surf = ax.plot_surface(x, y, z, cmap='viridis')\n",
    "    return surf,\n",
    "\n",
    "ani = FuncAnimation(fig, update, frames=frames, blit=False)\n",
    "ani.save(path + f'Error animation{try_number}.gif', writer='imagemagick', fps=15)\n",
    "plt.show()\n"
   ]
  },
  {
   "cell_type": "code",
   "execution_count": null,
   "id": "4192329e-41ea-46df-9889-00391fdbefc6",
   "metadata": {},
   "outputs": [],
   "source": []
  }
 ],
 "metadata": {
  "kernelspec": {
   "display_name": "Python 3 (ipykernel)",
   "language": "python",
   "name": "python3"
  },
  "language_info": {
   "codemirror_mode": {
    "name": "ipython",
    "version": 3
   },
   "file_extension": ".py",
   "mimetype": "text/x-python",
   "name": "python",
   "nbconvert_exporter": "python",
   "pygments_lexer": "ipython3",
   "version": "3.10.4"
  }
 },
 "nbformat": 4,
 "nbformat_minor": 5
}
